{
 "cells": [
  {
   "cell_type": "code",
   "execution_count": 1,
   "metadata": {},
   "outputs": [],
   "source": [
    "%matplotlib inline\n",
    "import numpy as np\n",
    "import matplotlib.pyplot as plt\n",
    "from astropy.time import Time\n",
    "from scipy.constants import c\n",
    "from scipy.optimize import curve_fit\n",
    "from datetime import datetime\n",
    "\n",
    "#%matplotlib qt\n",
    "\n",
    "plt.rcParams['figure.figsize'] = [12, 6]\n",
    "plt.rcParams['figure.facecolor'] = 'w'"
   ]
  },
  {
   "cell_type": "code",
   "execution_count": 2,
   "metadata": {},
   "outputs": [],
   "source": [
    "#f_carrier = 8431.0165302617e6 before GPSDO software change, average of Oct 11-17th.\n",
    "f_carrier = 8431.01653051e6"
   ]
  },
  {
   "cell_type": "code",
   "execution_count": null,
   "metadata": {},
   "outputs": [],
   "source": [
    "data = np.fromfile('18.dat', sep = ' ').reshape((-1,4))\n",
    "t_data = Time(data[:,0], format = 'mjd')\n",
    "freq_data = data[:,1]"
   ]
  },
  {
   "cell_type": "code",
   "execution_count": null,
   "metadata": {},
   "outputs": [],
   "source": [
    "gmd_file = '/home/scott/code/GMAT/R2020a/output/ve7til.gmd'\n",
    "gmd_mjd = []\n",
    "gmd_rangerate = []\n",
    "with open(gmd_file) as f:\n",
    "    for l in f.readlines()[2:]:\n",
    "        gmd_mjd.append(float(l.split()[0]))\n",
    "        gmd_rangerate.append(float(l.split()[-1]))\n",
    "gmd_mjd = np.array(gmd_mjd)\n",
    "gmd_rangerate = np.array(gmd_rangerate)\n",
    "t_gmd = Time(gmd_mjd + (2430000.0 - 2400000.5), scale = 'tai', format = 'mjd')"
   ]
  },
  {
   "cell_type": "code",
   "execution_count": null,
   "metadata": {},
   "outputs": [],
   "source": [
    "rangerate_interp = np.interp(t_data.utc.mjd, t_gmd.utc.mjd, gmd_rangerate)\n",
    "freq_gmat = f_carrier * (1 - 1e3*rangerate_interp/c)"
   ]
  },
  {
   "cell_type": "code",
   "execution_count": null,
   "metadata": {},
   "outputs": [],
   "source": [
    "freq_diff = freq_data - freq_gmat\n",
    "print(sum(freq_diff))\n",
    "\n",
    "print(len(freq_diff))\n",
    "\n",
    "sum(freq_diff) / len(freq_diff)"
   ]
  },
  {
   "cell_type": "code",
   "execution_count": null,
   "metadata": {},
   "outputs": [],
   "source": [
    "np_diff = np.array(freq_diff)\n",
    "\n",
    "x = 0\n",
    "count = t_data.shape[0]\n",
    "t_zero = (data[0,0] - int(data[0,0])) * 86400\n",
    "np_t = [0.0] * count\n",
    "\n",
    "for x in range (0,count):\n",
    "    np_t[x] = ((data[x,0] - int(data[0,0])) * 86400) - t_zero\n",
    "\n",
    "    np_t = np.array(np_t)\n",
    "\n",
    "m, b = np.polyfit(np_t, np_diff,1)\n",
    "print (m, b)\n",
    "\n",
    "x=0\n",
    "x=(0-b)/m\n",
    "print (x)\n",
    "\n",
    "plt.ylim(-.1,.1)\n",
    "plt.xlim(0,15000)\n",
    "plt.plot(np_t, freq_diff, '.',markersize=1, label = 'Difference from GMAT Model')\n",
    "plt.plot(np_t, m*np_t + b, label = 'Fit to y=mx+b')\n",
    "plt.text(1000,.05, 'y = %s*x + %s'%(m,b))\n",
    "plt.title('TIANWEN-1 Frequency Difference Trend - %s'%t_data.datetime[0].strftime('%Y-%m-%d'))\n",
    "plt.ylabel('Frequency (Hz)')\n",
    "plt.xlabel('Seconds Since AOS')\n",
    "plt.legend()\n",
    "plt.show();\n"
   ]
  },
  {
   "cell_type": "code",
   "execution_count": null,
   "metadata": {},
   "outputs": [],
   "source": [
    "plt.plot(t_data.datetime,freq_data,'.' ,markersize=10, alpha=2, label = 'VE7TIL data')\n",
    "plt.plot(t_data.datetime, freq_gmat, '.',markersize=1,alpha=1,label = 'GMAT Model')\n",
    "plt.title('TIANWEN-1 Frequency data')\n",
    "plt.ylabel('Frequency (Hz)')\n",
    "plt.xlabel('UTC time')\n",
    "plt.legend()\n",
    "plt.show();"
   ]
  },
  {
   "cell_type": "code",
   "execution_count": null,
   "metadata": {
    "scrolled": true
   },
   "outputs": [],
   "source": [
    "plt.ylim(-4,4)\n",
    "plt.plot(t_data.datetime, freq_data - freq_gmat,'.',markersize=.1,  label = 'strf file')\n",
    "plt.title('TIANWEN-1 Frequency difference')\n",
    "plt.ylabel('Frequency (Hz)')\n",
    "plt.xlabel('UTC time')\n",
    "plt.show();"
   ]
  }
 ],
 "metadata": {
  "kernelspec": {
   "display_name": "Python 3",
   "language": "python",
   "name": "python3"
  },
  "language_info": {
   "codemirror_mode": {
    "name": "ipython",
    "version": 3
   },
   "file_extension": ".py",
   "mimetype": "text/x-python",
   "name": "python",
   "nbconvert_exporter": "python",
   "pygments_lexer": "ipython3",
   "version": "3.6.9"
  }
 },
 "nbformat": 4,
 "nbformat_minor": 4
}
